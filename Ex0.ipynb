{
 "cells": [
  {
   "cell_type": "code",
   "execution_count": 1,
   "metadata": {},
   "outputs": [
    {
     "name": "stderr",
     "output_type": "stream",
     "text": [
      "/tmp/ipykernel_27804/3884227268.py:3: DeprecationWarning: \n",
      "Pyarrow will become a required dependency of pandas in the next major release of pandas (pandas 3.0),\n",
      "(to allow more performant data types, such as the Arrow string type, and better interoperability with other libraries)\n",
      "but was not found to be installed on your system.\n",
      "If this would cause problems for you,\n",
      "please provide us feedback at https://github.com/pandas-dev/pandas/issues/54466\n",
      "        \n",
      "  import pandas as pd\n"
     ]
    }
   ],
   "source": [
    "import sys, os, csv\n",
    "from datetime import datetime, timezone, timedelta\n",
    "import pandas as pd\n",
    "import numpy as np\n",
    "import navpy\n",
    "from gnssutils.ephemeris_manager import EphemerisManager\n",
    "ephemeris_data_directory = os.path.join('data')"
   ]
  },
  {
   "cell_type": "code",
   "execution_count": 2,
   "metadata": {},
   "outputs": [
    {
     "name": "stdout",
     "output_type": "stream",
     "text": [
      "Index(['utcTimeMillis', 'TimeNanos', 'LeapSecond', 'TimeUncertaintyNanos',\n",
      "       'FullBiasNanos', 'BiasNanos', 'BiasUncertaintyNanos',\n",
      "       'DriftNanosPerSecond', 'DriftUncertaintyNanosPerSecond',\n",
      "       'HardwareClockDiscontinuityCount', 'Svid', 'TimeOffsetNanos', 'State',\n",
      "       'ReceivedSvTimeNanos', 'ReceivedSvTimeUncertaintyNanos', 'Cn0DbHz',\n",
      "       'PseudorangeRateMetersPerSecond',\n",
      "       'PseudorangeRateUncertaintyMetersPerSecond',\n",
      "       'AccumulatedDeltaRangeState', 'AccumulatedDeltaRangeMeters',\n",
      "       'AccumulatedDeltaRangeUncertaintyMeters', 'CarrierFrequencyHz',\n",
      "       'CarrierCycles', 'CarrierPhase', 'CarrierPhaseUncertainty',\n",
      "       'MultipathIndicator', 'SnrInDb', 'ConstellationType', 'AgcDb',\n",
      "       'BasebandCn0DbHz', 'FullInterSignalBiasNanos',\n",
      "       'FullInterSignalBiasUncertaintyNanos', 'SatelliteInterSignalBiasNanos',\n",
      "       'SatelliteInterSignalBiasUncertaintyNanos', 'CodeType',\n",
      "       'ChipsetElapsedRealtimeNanos', 'Constellation', 'SvName'],\n",
      "      dtype='object')\n"
     ]
    }
   ],
   "source": [
    "# Get path to sample file in data directory, which is located in the parent directory of this notebook\n",
    "input_filepath = os.path.join('data', 'walking', 'gnss_log_2024_04_13_19_52_00.txt')\n",
    "\n",
    "with open(input_filepath) as csvfile:\n",
    "    reader = csv.reader(csvfile)\n",
    "    for row in reader:\n",
    "        if row[0][0] == '#':\n",
    "            if 'Fix' in row[0]:\n",
    "                android_fixes = [row[1:]]\n",
    "            elif 'Raw' in row[0]:\n",
    "                measurements = [row[1:]]\n",
    "        else:\n",
    "            if row[0] == 'Fix':\n",
    "                android_fixes.append(row[1:])\n",
    "            elif row[0] == 'Raw':\n",
    "                measurements.append(row[1:])\n",
    "\n",
    "android_fixes = pd.DataFrame(android_fixes[1:], columns = android_fixes[0])\n",
    "measurements = pd.DataFrame(measurements[1:], columns = measurements[0])\n",
    "\n",
    "# Format satellite IDs\n",
    "measurements.loc[measurements['Svid'].str.len() == 1, 'Svid'] = '0' + measurements['Svid']\n",
    "measurements.loc[measurements['ConstellationType'] == '1', 'Constellation'] = 'G'\n",
    "measurements.loc[measurements['ConstellationType'] == '3', 'Constellation'] = 'R'\n",
    "measurements['SvName'] = measurements['Constellation'] + measurements['Svid']\n",
    "\n",
    "# Remove all non-GPS measurements\n",
    "measurements = measurements.loc[measurements['Constellation'] == 'G']\n",
    "\n",
    "# Convert columns to numeric representation\n",
    "measurements['Cn0DbHz'] = pd.to_numeric(measurements['Cn0DbHz'])\n",
    "measurements['TimeNanos'] = pd.to_numeric(measurements['TimeNanos'])\n",
    "measurements['FullBiasNanos'] = pd.to_numeric(measurements['FullBiasNanos'])\n",
    "measurements['ReceivedSvTimeNanos']  = pd.to_numeric(measurements['ReceivedSvTimeNanos'])\n",
    "measurements['PseudorangeRateMetersPerSecond'] = pd.to_numeric(measurements['PseudorangeRateMetersPerSecond'])\n",
    "measurements['ReceivedSvTimeUncertaintyNanos'] = pd.to_numeric(measurements['ReceivedSvTimeUncertaintyNanos'])\n",
    "\n",
    "# A few measurement values are not provided by all phones\n",
    "# We'll check for them and initialize them with zeros if missing\n",
    "if 'BiasNanos' in measurements.columns:\n",
    "    measurements['BiasNanos'] = pd.to_numeric(measurements['BiasNanos'])\n",
    "else:\n",
    "    measurements['BiasNanos'] = 0\n",
    "if 'TimeOffsetNanos' in measurements.columns:\n",
    "    measurements['TimeOffsetNanos'] = pd.to_numeric(measurements['TimeOffsetNanos'])\n",
    "else:\n",
    "    measurements['TimeOffsetNanos'] = 0\n",
    "\n",
    "print(measurements.columns)"
   ]
  },
  {
   "cell_type": "code",
   "execution_count": 3,
   "metadata": {},
   "outputs": [],
   "source": [
    "measurements['GpsTimeNanos'] = measurements['TimeNanos'] - (measurements['FullBiasNanos'] - measurements['BiasNanos'])\n",
    "gpsepoch = datetime(1980, 1, 6, 0, 0, 0)\n",
    "measurements['UnixTime'] = pd.to_datetime(measurements['GpsTimeNanos'], utc = True, origin=gpsepoch)\n",
    "measurements['UnixTime'] = measurements['UnixTime']\n",
    "\n",
    "# Split data into measurement epochs\n",
    "measurements['Epoch'] = 0\n",
    "measurements.loc[measurements['UnixTime'] - measurements['UnixTime'].shift() > timedelta(milliseconds=200), 'Epoch'] = 1\n",
    "measurements['Epoch'] = measurements['Epoch'].cumsum()"
   ]
  },
  {
   "cell_type": "code",
   "execution_count": 4,
   "metadata": {},
   "outputs": [],
   "source": [
    "WEEKSEC = 604800\n",
    "LIGHTSPEED = 2.99792458e8\n",
    "\n",
    "# This should account for rollovers since it uses a week number specific to each measurement\n",
    "\n",
    "measurements['tRxGnssNanos'] = measurements['TimeNanos'] + measurements['TimeOffsetNanos'] - (measurements['FullBiasNanos'].iloc[0] + measurements['BiasNanos'].iloc[0])\n",
    "measurements['GpsWeekNumber'] = np.floor(1e-9 * measurements['tRxGnssNanos'] / WEEKSEC)\n",
    "measurements['tRxSeconds'] = 1e-9*measurements['tRxGnssNanos'] - WEEKSEC * measurements['GpsWeekNumber']\n",
    "measurements['tTxSeconds'] = 1e-9*(measurements['ReceivedSvTimeNanos'] + measurements['TimeOffsetNanos'])\n",
    "# Calculate pseudorange in seconds\n",
    "measurements['prSeconds'] = measurements['tRxSeconds'] - measurements['tTxSeconds']\n",
    "\n",
    "# Conver to meters\n",
    "measurements['PrM'] = LIGHTSPEED * measurements['prSeconds']\n",
    "measurements['PrSigmaM'] = LIGHTSPEED * 1e-9 * measurements['ReceivedSvTimeUncertaintyNanos']"
   ]
  },
  {
   "cell_type": "code",
   "execution_count": 5,
   "metadata": {},
   "outputs": [
    {
     "name": "stdout",
     "output_type": "stream",
     "text": [
      "Index(['utcTimeMillis', 'TimeNanos', 'LeapSecond', 'TimeUncertaintyNanos',\n",
      "       'FullBiasNanos', 'BiasNanos', 'BiasUncertaintyNanos',\n",
      "       'DriftNanosPerSecond', 'DriftUncertaintyNanosPerSecond',\n",
      "       'HardwareClockDiscontinuityCount', 'Svid', 'TimeOffsetNanos', 'State',\n",
      "       'ReceivedSvTimeNanos', 'ReceivedSvTimeUncertaintyNanos', 'Cn0DbHz',\n",
      "       'PseudorangeRateMetersPerSecond',\n",
      "       'PseudorangeRateUncertaintyMetersPerSecond',\n",
      "       'AccumulatedDeltaRangeState', 'AccumulatedDeltaRangeMeters',\n",
      "       'AccumulatedDeltaRangeUncertaintyMeters', 'CarrierFrequencyHz',\n",
      "       'CarrierCycles', 'CarrierPhase', 'CarrierPhaseUncertainty',\n",
      "       'MultipathIndicator', 'SnrInDb', 'ConstellationType', 'AgcDb',\n",
      "       'BasebandCn0DbHz', 'FullInterSignalBiasNanos',\n",
      "       'FullInterSignalBiasUncertaintyNanos', 'SatelliteInterSignalBiasNanos',\n",
      "       'SatelliteInterSignalBiasUncertaintyNanos', 'CodeType',\n",
      "       'ChipsetElapsedRealtimeNanos', 'Constellation', 'SvName',\n",
      "       'GpsTimeNanos', 'UnixTime', 'Epoch', 'tRxGnssNanos', 'GpsWeekNumber',\n",
      "       'tRxSeconds', 'tTxSeconds', 'prSeconds', 'PrM', 'PrSigmaM'],\n",
      "      dtype='object')\n"
     ]
    }
   ],
   "source": [
    "print(measurements.columns)"
   ]
  },
  {
   "cell_type": "code",
   "execution_count": 6,
   "metadata": {},
   "outputs": [
    {
     "name": "stdout",
     "output_type": "stream",
     "text": [
      "2024-04-13 16:52:19.418698+00:00\n",
      "                                  UnixTime     tTxSeconds  GpsWeekNumber\n",
      "SvName                                                                  \n",
      "G02    2024-04-13 16:52:19.418698240+00:00  579139.342218         2309.0\n",
      "G03    2024-04-13 16:52:19.418698240+00:00  579139.338513         2309.0\n",
      "G08    2024-04-13 16:52:19.418698240+00:00  579139.348174         2309.0\n",
      "G10    2024-04-13 16:52:19.418698240+00:00  579139.342627         2309.0\n",
      "G21    2024-04-13 16:52:19.418698240+00:00  579139.346333         2309.0\n",
      "G27    2024-04-13 16:52:19.418698240+00:00  579139.344756         2309.0\n",
      "G28    2024-04-13 16:52:19.418698240+00:00  579139.339107         2309.0\n",
      "G32    2024-04-13 16:52:19.418698240+00:00  579139.347125         2309.0\n"
     ]
    }
   ],
   "source": [
    "manager = EphemerisManager(ephemeris_data_directory)\n",
    "\n",
    "epoch = 0\n",
    "num_sats = 0\n",
    "while num_sats < 5 :\n",
    "    one_epoch = measurements.loc[(measurements['Epoch'] == epoch) & (measurements['prSeconds'] < 0.1)].drop_duplicates(subset='SvName')\n",
    "    timestamp = one_epoch.iloc[0]['UnixTime'].to_pydatetime(warn=False)\n",
    "    one_epoch.set_index('SvName', inplace=True)\n",
    "    num_sats = len(one_epoch.index)\n",
    "    epoch += 1\n",
    "\n",
    "sats = one_epoch.index.unique().tolist()\n",
    "ephemeris = manager.get_ephemeris(timestamp, sats)\n",
    "print(timestamp)\n",
    "print(one_epoch[['UnixTime', 'tTxSeconds', 'GpsWeekNumber']])"
   ]
  },
  {
   "cell_type": "code",
   "execution_count": 7,
   "metadata": {},
   "outputs": [
    {
     "name": "stdout",
     "output_type": "stream",
     "text": [
      "             t_k   delT_sv           x_k           y_k           z_k\n",
      "sv                                                                  \n",
      "G02  3139.342218 -0.000454  1.459187e+07 -5.125610e+06  2.205612e+07\n",
      "G03  3139.338513  0.000309  2.317348e+07 -1.210245e+07  4.147833e+06\n",
      "G08  3139.348174  0.000120  2.494455e+07  4.723197e+06  8.404084e+06\n",
      "G10  3155.342627 -0.000008 -1.422253e+06  1.720520e+07  2.029595e+07\n",
      "G21  3139.346333  0.000127  1.571781e+07  1.649482e+06  2.189629e+07\n",
      "G27  3139.344756 -0.000018  2.313480e+07  1.329673e+07 -2.727531e+06\n",
      "G28  3139.339107 -0.000202  5.190524e+06  2.578071e+07 -3.750985e+06\n",
      "G32  3139.347125 -0.000618  8.004525e+06  1.792807e+07  1.819016e+07\n"
     ]
    }
   ],
   "source": [
    "def calculate_satellite_position(ephemeris, transmit_time):\n",
    "    mu = 3.986005e14\n",
    "    OmegaDot_e = 7.2921151467e-5\n",
    "    F = -4.442807633e-10\n",
    "    sv_position = pd.DataFrame()\n",
    "    sv_position['sv']= ephemeris.index\n",
    "    sv_position.set_index('sv', inplace=True)\n",
    "    sv_position['t_k'] = transmit_time - ephemeris['t_oe']\n",
    "    A = ephemeris['sqrtA'].pow(2)\n",
    "    n_0 = np.sqrt(mu / A.pow(3))\n",
    "    n = n_0 + ephemeris['deltaN']\n",
    "    M_k = ephemeris['M_0'] + n * sv_position['t_k']\n",
    "    E_k = M_k\n",
    "    err = pd.Series(data=[1]*len(sv_position.index))\n",
    "    i = 0\n",
    "    while err.abs().min() > 1e-8 and i < 10:\n",
    "        new_vals = M_k + ephemeris['e']*np.sin(E_k)\n",
    "        err = new_vals - E_k\n",
    "        E_k = new_vals\n",
    "        i += 1\n",
    "        \n",
    "    sinE_k = np.sin(E_k)\n",
    "    cosE_k = np.cos(E_k)\n",
    "    delT_r = F * ephemeris['e'].pow(ephemeris['sqrtA']) * sinE_k\n",
    "    delT_oc = transmit_time - ephemeris['t_oc']\n",
    "    sv_position['delT_sv'] = ephemeris['SVclockBias'] + ephemeris['SVclockDrift'] * delT_oc + ephemeris['SVclockDriftRate'] * delT_oc.pow(2)\n",
    "\n",
    "    v_k = np.arctan2(np.sqrt(1-ephemeris['e'].pow(2))*sinE_k,(cosE_k - ephemeris['e']))\n",
    "\n",
    "    Phi_k = v_k + ephemeris['omega']\n",
    "\n",
    "    sin2Phi_k = np.sin(2*Phi_k)\n",
    "    cos2Phi_k = np.cos(2*Phi_k)\n",
    "\n",
    "    du_k = ephemeris['C_us']*sin2Phi_k + ephemeris['C_uc']*cos2Phi_k\n",
    "    dr_k = ephemeris['C_rs']*sin2Phi_k + ephemeris['C_rc']*cos2Phi_k\n",
    "    di_k = ephemeris['C_is']*sin2Phi_k + ephemeris['C_ic']*cos2Phi_k\n",
    "\n",
    "    u_k = Phi_k + du_k\n",
    "\n",
    "    r_k = A*(1 - ephemeris['e']*np.cos(E_k)) + dr_k\n",
    "\n",
    "    i_k = ephemeris['i_0'] + di_k + ephemeris['IDOT']*sv_position['t_k']\n",
    "\n",
    "    x_k_prime = r_k*np.cos(u_k)\n",
    "    y_k_prime = r_k*np.sin(u_k)\n",
    "\n",
    "    Omega_k = ephemeris['Omega_0'] + (ephemeris['OmegaDot'] - OmegaDot_e)*sv_position['t_k'] - OmegaDot_e*ephemeris['t_oe']\n",
    "\n",
    "    sv_position['x_k'] = x_k_prime*np.cos(Omega_k) - y_k_prime*np.cos(i_k)*np.sin(Omega_k)\n",
    "    sv_position['y_k'] = x_k_prime*np.sin(Omega_k) + y_k_prime*np.cos(i_k)*np.cos(Omega_k)\n",
    "    sv_position['z_k'] = y_k_prime*np.sin(i_k)\n",
    "    return sv_position\n",
    "\n",
    "# Run the function and check out the results:\n",
    "sv_position = calculate_satellite_position(ephemeris, one_epoch['tTxSeconds'])\n",
    "print(sv_position)"
   ]
  },
  {
   "cell_type": "code",
   "execution_count": 8,
   "metadata": {},
   "outputs": [],
   "source": [
    "#initial guesses of receiver clock bias and position\n",
    "b0 = 0\n",
    "x0 = np.array([0, 0, 0])\n",
    "xs = sv_position[['x_k', 'y_k', 'z_k']].to_numpy()\n",
    "\n",
    "# Apply satellite clock bias to correct the measured pseudorange values\n",
    "pr = one_epoch['PrM'] + LIGHTSPEED * sv_position['delT_sv']\n",
    "pr = pr.to_numpy()"
   ]
  },
  {
   "cell_type": "code",
   "execution_count": 9,
   "metadata": {},
   "outputs": [
    {
     "data": {
      "text/plain": [
       "array([22792039.01768219, 24131358.53474073, 21178412.13665865,\n",
       "       22802966.66367221, 21732699.37533493, 22161735.16137114,\n",
       "       23800201.24902511, 21271716.4727527 ])"
      ]
     },
     "execution_count": 9,
     "metadata": {},
     "output_type": "execute_result"
    }
   ],
   "source": [
    "pr"
   ]
  },
  {
   "cell_type": "code",
   "execution_count": 10,
   "metadata": {},
   "outputs": [
    {
     "name": "stdout",
     "output_type": "stream",
     "text": [
      "(32.1688570069758, 34.813653609570586, 67.16203436814249)\n",
      "2.7735246720303314e-08\n",
      "16.072642916880696\n"
     ]
    }
   ],
   "source": [
    "def least_squares(xs, measured_pseudorange, x0, b0):\n",
    "    dx = 100*np.ones(3)\n",
    "    b = b0\n",
    "    # set up the G matrix with the right dimensions. We will later replace the first 3 columns\n",
    "    # note that b here is the clock bias in meters equivalent, so the actual clock bias is b/LIGHTSPEED\n",
    "    G = np.ones((measured_pseudorange.size, 4))\n",
    "    iterations = 0\n",
    "    while np.linalg.norm(dx) > 1e-3:\n",
    "        # Eq. (2):\n",
    "        r = np.linalg.norm(xs - x0, axis=1)\n",
    "        # Eq. (1):\n",
    "        phat = r + b0\n",
    "        # Eq. (3):\n",
    "        deltaP = measured_pseudorange - phat\n",
    "        G[:, 0:3] = -(xs - x0) / r[:, None]\n",
    "        # Eq. (4):\n",
    "        sol = np.linalg.inv(np.transpose(G) @ G) @ np.transpose(G) @ deltaP\n",
    "        # Eq. (5):\n",
    "        dx = sol[0:3]\n",
    "        db = sol[3]\n",
    "        x0 = x0 + dx\n",
    "        b0 = b0 + db\n",
    "    norm_dp = np.linalg.norm(deltaP)\n",
    "    return x0, b0, norm_dp\n",
    "\n",
    "x, b, dp = least_squares(xs, pr, x0, b0)\n",
    "print(navpy.ecef2lla(x))\n",
    "print(b/LIGHTSPEED)\n",
    "print(dp)"
   ]
  },
  {
   "cell_type": "code",
   "execution_count": null,
   "metadata": {},
   "outputs": [],
   "source": []
  }
 ],
 "metadata": {
  "kernelspec": {
   "display_name": "Python 3",
   "language": "python",
   "name": "python3"
  },
  "language_info": {
   "codemirror_mode": {
    "name": "ipython",
    "version": 3
   },
   "file_extension": ".py",
   "mimetype": "text/x-python",
   "name": "python",
   "nbconvert_exporter": "python",
   "pygments_lexer": "ipython3",
   "version": "3.12.1"
  }
 },
 "nbformat": 4,
 "nbformat_minor": 2
}
